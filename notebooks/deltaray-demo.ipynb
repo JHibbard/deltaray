{
 "cells": [
  {
   "cell_type": "markdown",
   "id": "b906230b-f02c-4e86-9d94-84cc1f52ad7a",
   "metadata": {
    "pycharm": {
     "name": "#%% md\n"
    }
   },
   "source": [
    "# deltaray demo"
   ]
  },
  {
   "cell_type": "code",
   "execution_count": 1,
   "id": "4dcbb18c-8fec-472e-a6ae-09c236497d4f",
   "metadata": {
    "pycharm": {
     "name": "#%%\n"
    }
   },
   "outputs": [],
   "source": [
    "# Standard Libraries\n",
    "import pathlib\n",
    "\n",
    "# External Libraries\n",
    "import deltaray\n",
    "import deltalake as dl\n",
    "import pandas as pd"
   ]
  },
  {
   "cell_type": "code",
   "execution_count": 2,
   "id": "b35c9497-e278-4e9e-a5c7-26bd67672055",
   "metadata": {
    "pycharm": {
     "name": "#%%\n"
    }
   },
   "outputs": [],
   "source": [
    "cwd = pathlib.Path().resolve()\n",
    "table_uri = f'{cwd}/tmp/delta-table'"
   ]
  },
  {
   "cell_type": "markdown",
   "id": "885e87dd-218c-472d-b22c-73c1be2661be",
   "metadata": {
    "pycharm": {
     "name": "#%% md\n"
    }
   },
   "source": [
    "#### Create Delta Table"
   ]
  },
  {
   "cell_type": "code",
   "execution_count": 3,
   "id": "f55b451f-ac54-491e-a25a-d990433c83cc",
   "metadata": {
    "pycharm": {
     "name": "#%%\n"
    }
   },
   "outputs": [],
   "source": [
    "df = pd.DataFrame({'id': [0, 1, 2, ], })"
   ]
  },
  {
   "cell_type": "code",
   "execution_count": 4,
   "id": "b8dbba3c-a708-47ad-88fc-34bb7b761564",
   "metadata": {
    "pycharm": {
     "name": "#%%\n"
    }
   },
   "outputs": [],
   "source": [
    "dl.write_deltalake(table_uri, df)"
   ]
  },
  {
   "cell_type": "markdown",
   "id": "ef7f3078-f25a-48da-9ac1-5f9d7415fbe2",
   "metadata": {
    "pycharm": {
     "name": "#%% md\n"
    }
   },
   "source": [
    "#### Append Delta Table"
   ]
  },
  {
   "cell_type": "code",
   "execution_count": 5,
   "id": "94046d87-9f66-4779-90d0-0dc5da04b388",
   "metadata": {
    "pycharm": {
     "name": "#%%\n"
    }
   },
   "outputs": [],
   "source": [
    "df = pd.DataFrame({'id': [3, 4, 5, ], })"
   ]
  },
  {
   "cell_type": "code",
   "execution_count": 6,
   "id": "f647ac87-bd18-4874-a69c-9bb6b3cb67cd",
   "metadata": {
    "pycharm": {
     "name": "#%%\n"
    }
   },
   "outputs": [],
   "source": [
    "dl.write_deltalake(table_uri, df, mode='append')"
   ]
  },
  {
   "cell_type": "markdown",
   "id": "032dd578-8b29-4f5a-8651-50a34972c13f",
   "metadata": {
    "pycharm": {
     "name": "#%% md\n"
    }
   },
   "source": [
    "#### Overwrite Delta Table"
   ]
  },
  {
   "cell_type": "code",
   "execution_count": 7,
   "id": "b80cc779-9d56-4320-8f47-5f3d43b97f3a",
   "metadata": {
    "pycharm": {
     "name": "#%%\n"
    }
   },
   "outputs": [],
   "source": [
    "df = pd.DataFrame({'id': [6, 7, 8, 9, ], })"
   ]
  },
  {
   "cell_type": "code",
   "execution_count": 8,
   "id": "55d88f30-e75f-4d0c-b1a8-3cb2bcaa4b05",
   "metadata": {
    "pycharm": {
     "name": "#%%\n"
    }
   },
   "outputs": [],
   "source": [
    "dl.write_deltalake(table_uri, df, mode='overwrite')"
   ]
  },
  {
   "cell_type": "markdown",
   "id": "094bd584-9c15-490d-a4de-42e69547d492",
   "metadata": {
    "pycharm": {
     "name": "#%% md\n"
    }
   },
   "source": [
    "#### Read Different Versions with Ray"
   ]
  },
  {
   "cell_type": "code",
   "execution_count": 9,
   "id": "6fd94549-d5de-4726-8904-66ca0575118f",
   "metadata": {
    "pycharm": {
     "name": "#%%\n"
    }
   },
   "outputs": [
    {
     "name": "stderr",
     "output_type": "stream",
     "text": [
      "2023-01-12 17:32:02,369\tINFO worker.py:1538 -- Started a local Ray instance.\n",
      "Parquet Files Sample:   0%|          | 0/1 [00:00<?, ?it/s]\n",
      "2023-01-12 17:32:05,124\tWARNING read_api.py:326 -- ⚠️  The number of blocks in this dataset (1) limits its parallelism to 1 concurrent tasks. This is much less than the number of available CPU slots in the cluster. Use `.repartition(n)` to increase the number of dataset blocks.\n"
     ]
    },
    {
     "name": "stdout",
     "output_type": "stream",
     "text": [
      "{'id': 0}\n",
      "{'id': 1}\n",
      "{'id': 2}\n"
     ]
    }
   ],
   "source": [
    "ds = deltaray.read_delta(table_uri, version=0)\n",
    "ds.show()"
   ]
  },
  {
   "cell_type": "code",
   "execution_count": 10,
   "id": "b76e6e63-0b22-4fdf-9c4f-507b1a144159",
   "metadata": {
    "pycharm": {
     "name": "#%%\n"
    }
   },
   "outputs": [
    {
     "name": "stderr",
     "output_type": "stream",
     "text": [
      "Parquet Files Sample: 100%|██████████| 1/1 [00:00<00:00,  5.10it/s]\n",
      "Parquet Files Sample:   0%|          | 0/2 [00:00<?, ?it/s]\n",
      "2023-01-12 17:32:05,451\tWARNING read_api.py:326 -- ⚠️  The number of blocks in this dataset (2) limits its parallelism to 2 concurrent tasks. This is much less than the number of available CPU slots in the cluster. Use `.repartition(n)` to increase the number of dataset blocks.\n"
     ]
    },
    {
     "name": "stdout",
     "output_type": "stream",
     "text": [
      "{'id': 0}\n",
      "{'id': 1}\n",
      "{'id': 2}\n",
      "{'id': 3}\n",
      "{'id': 4}\n",
      "{'id': 5}\n"
     ]
    }
   ],
   "source": [
    "ds = deltaray.read_delta(table_uri, version=1)\n",
    "ds.show()"
   ]
  },
  {
   "cell_type": "code",
   "execution_count": 12,
   "id": "265e9fa4-86ac-41a0-9ef0-e5162ded30d0",
   "metadata": {
    "pycharm": {
     "name": "#%%\n"
    }
   },
   "outputs": [
    {
     "name": "stderr",
     "output_type": "stream",
     "text": [
      "2023-01-12 17:32:05,523\tWARNING read_api.py:326 -- ⚠️  The number of blocks in this dataset (1) limits its parallelism to 1 concurrent tasks. This is much less than the number of available CPU slots in the cluster. Use `.repartition(n)` to increase the number of dataset blocks.\n"
     ]
    },
    {
     "name": "stdout",
     "output_type": "stream",
     "text": [
      "{'id': 6}\n",
      "{'id': 7}\n",
      "{'id': 8}\n",
      "{'id': 9}\n"
     ]
    },
    {
     "name": "stderr",
     "output_type": "stream",
     "text": [
      "Parquet Files Sample: 100%|██████████| 1/1 [00:00<00:00, 410.64it/s]\n"
     ]
    }
   ],
   "source": [
    "ds = deltaray.read_delta(table_uri)\n",
    "ds.show()"
   ]
  },
  {
   "cell_type": "code",
   "execution_count": null,
   "id": "fb612d1c-ca98-42f2-af57-2848e32cdb0a",
   "metadata": {
    "pycharm": {
     "name": "#%%\n"
    }
   },
   "outputs": [],
   "source": []
  }
 ],
 "metadata": {
  "kernelspec": {
   "display_name": "mlflow-patterns",
   "language": "python",
   "name": "mlflow-patterns"
  },
  "language_info": {
   "codemirror_mode": {
    "name": "ipython",
    "version": 3
   },
   "file_extension": ".py",
   "mimetype": "text/x-python",
   "name": "python",
   "nbconvert_exporter": "python",
   "pygments_lexer": "ipython3",
   "version": "3.10.2"
  }
 },
 "nbformat": 4,
 "nbformat_minor": 5
}